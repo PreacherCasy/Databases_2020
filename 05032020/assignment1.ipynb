{
 "cells": [
  {
   "cell_type": "markdown",
   "metadata": {},
   "source": [
    "<h1><div align=\"right\">Home Assignment 1</div></h1>\n",
    "<h3><div align=\"right\">05.03.2020</div></h3>\n",
    "<style>\n",
    "   P { \n",
    "    text-indent: 1.5em;\n",
    "    text-align: justify;\n",
    "   }  \n",
    "  </style>\n",
    "      The assigned work consists of three tasks dedicated to Entrez tools manipulation and data retrieval. All scripts are provided in the respective directories and are described here briefly for the sake of time economy."
   ]
  },
  {
   "cell_type": "markdown",
   "metadata": {},
   "source": [
    "<h3>Current directory check</h3>"
   ]
  },
  {
   "cell_type": "code",
   "execution_count": 1,
   "metadata": {},
   "outputs": [
    {
     "name": "stdout",
     "output_type": "stream",
     "text": [
      "The working directory is /home/reverend_casy/databases_2020/05032020\n"
     ]
    }
   ],
   "source": [
    "import os\n",
    "print(f'The working directory is {os.getcwd()}')"
   ]
  },
  {
   "cell_type": "markdown",
   "metadata": {},
   "source": [
    "<h3>Task 4</h3>\n",
    "<style>\n",
    "   P { \n",
    "    text-indent: 1.5em;\n",
    "    text-align: justify;\n",
    "   }\n",
    "  </style>\n",
    "  The first task suggests writing a code that would:\n",
    "  <ul style=\"list-style-type:circle;\">\n",
    "  <li>retrieve information on sequences for the query gene in the query organism and output it in XML format;</li>\n",
    "  <li>retrieve similar data and produce an ID-Accession-Sequence Length pivot;</li>\n",
    "  <li>retrieve sequences for the matching entries;</li>\n",
    "    <li>retrieve sequences fro NCBI Nucleotide by a paper's PMID</li>\n",
    "</ul>\n",
    "<p>\n",
    "    All these points are covered in <i>task_4.py</i> functionality. The script is launchible from the command line and can be run in one of four modes ('default', 'pivot', 'retrieve' and 'fetch', respectively) as stated in the script <i>help</i> attribute. If an output file is not stated explicitly via '-o' option, the output is sent to stdout flow.\n",
    "    </p>\n",
    "    \n",
    "```{bash}\n",
    "./task_4.py -q GSPT1 #default mode; produces an XML output parsed with an Entrez utility\n",
    "./task_4.py -q GSPT1 -m p -o 4_2.tsv #create a pivot table\n",
    "./task_4.py -q GSPT1 -m r -o 4_3.fasta #download the fetched sequences\n",
    "./task_4.py -q 12890024 -m f -o 4_4.fasta #download the sequences referred to in the provided paper\n",
    "```\n",
    "<p>\n",
    "    Note that <i>Homo sapiens</i> is set as default species for 'd', 'p' and 'r' modes and therefore is not stated explicitly. To set a species to narrow the search to, use a '-sp' option.\n",
    "    </p>"
   ]
  },
  {
   "cell_type": "markdown",
   "metadata": {},
   "source": [
    "<h3>Task 5</h3>"
   ]
  },
  {
   "cell_type": "markdown",
   "metadata": {},
   "source": [
    "<style>\n",
    "   P { \n",
    "    text-indent: 1.5em;\n",
    "    text-align: justify;\n",
    "   }\n",
    "  </style>\n",
    "\n",
    "In the next task the student is offered to investigate the distribution of a cryptic orf3b protein from the covid2019 coronavirus among its closest relatives. Soothly this was the hardest part of the whole assignment, not because of the task complexity <i>per se</i> but rather because of the computational facilities local Python-mediated BLAST queries take to annotate the sequence.\n",
    "Several heuristics were used for this task to minimize the time. These are:\n",
    "<ul style=\"list-style-type:circle;\">\n",
    "    <li>Reference sequence for nCoV-2020 was much easier to obtain as long as its UID had been checked manually in advance;</li>\n",
    "    <li>Only RefSeq genomes were used as targets to maximize the database diversity and avoid ambiguous alignments;</li>\n",
    "    <li>Though not that be the path of the Jedi, Pythonic BLAST function performed so lame, especially when dealing with refseq-narrowed target base, that I eventuall downloaded all the needed genomes manually;</li>\n",
    "    <li> orf3b is apparently absent in the NCBI databases, including the GenBank layout of the respective layout, thus the query sequence was produced manually.\n",
    "    </ul>\n",
    "    Apart from that, the implemented pipeline comprised of the following steps:\n",
    "    <ul style=\"list-style-type:circle;\">\n",
    "    <li>download the reference genome and the one studied in the paper by Chan <i>et al.</i>;</li>\n",
    "    <li>perform BLAST against <i>refseq_genomes</i> viral database to find the most related genomes unrelated to the current outbreak;<li>\n",
    "    <li>extract CDS features from the GenBank annotations for the obtained genomes and redirect them to the fasta files</li>;\n",
    "    <li>combine all proteinaceous sequences into a single file to brew BLAST database from;</li>\n",
    "    <li>perform blastp alignment of the orf3b sequence and filter the results.</li>\n",
    "    </ul>\n",
    "    \n",
    "Most of the code is stored in <i>task_5.py</i> file, except for CDS extraction performed with <i>converter.py</i> script. BLAST annotation was performed as following:\n",
    "\n",
    "```bash\n",
    "makeblastdb -in all_for_blast.fa -dbtype prot -title SARSes\n",
    "\n",
    "blastp -query orf3b.fasta -db all_for_blast.fa -outfmt 6 -out blastres.outfmt6\n",
    "\n",
    "sort -k1,1 -k12,12gr -k11,11g -k3,3gr output | sort -u -k1,1 --merge > bestHits\n",
    "\n",
    "```\n",
    "\n",
    "As a result, only one match to ORF1a from a human SARS genomes retained with E-value equal 0.79, underpinning the point that orf3b is confined within the examined genome and is not likely to be tracked by conventional algorithms"
   ]
  },
  {
   "cell_type": "markdown",
   "metadata": {},
   "source": [
    "<h3>Task 6</h3>\n",
    "<style>\n",
    "   P { \n",
    "    text-indent: 1.5em;\n",
    "    text-align: justify;\n",
    "   }\n",
    "  </style>\n",
    "  The last task implies counting cumulative length of NCBI Assembly shotgun metagenome submissions aggregated by the sample source. The <i>task_6.py</i> script is quite self-explanatory and is ready for use with any other taxon name; however, several points need to be elucidated:\n",
    "  <ul style=\"list-style-type:circle;\">\n",
    "    <li>I have failed to find an 'environment' field in all three Assembly, Bioproject and Biosample summaries, so that metagenome name prefix was used to define the sample source;</li>\n",
    "    <li>Apparently, it is not clear whether gigabases or gigabytes (well, just in case) had been implied in the original task, so I ended up counting cumulative length and dividing it by 10e6;</li>\n",
    "    <li>Of all three length metrics provided in the metadata, the 'total length' atribute was used;</li>\n",
    "    <li>Metadata was parsed in an apalling way because I fell short of any plausible XML parsing strategy.</li>\n",
    "   \n",
    "</ul>"
   ]
  }
 ],
 "metadata": {
  "kernelspec": {
   "display_name": "Python 3",
   "language": "python",
   "name": "python3"
  },
  "language_info": {
   "codemirror_mode": {
    "name": "ipython",
    "version": 3
   },
   "file_extension": ".py",
   "mimetype": "text/x-python",
   "name": "python",
   "nbconvert_exporter": "python",
   "pygments_lexer": "ipython3",
   "version": "3.8.1"
  }
 },
 "nbformat": 4,
 "nbformat_minor": 4
}
