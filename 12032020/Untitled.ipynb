{
 "cells": [
  {
   "cell_type": "markdown",
   "metadata": {},
   "source": [
    "<div align=\"right\">\n",
    "<h1>Home Assignment 2</h1>\n",
    "<h3>13.03.202</h3>\n",
    "</div>\n",
    "\n",
    "This week the assignment was dedicated to putative structural homology DNA sliding clap proteins from pro- and eukaryotic organisms, <i>Escherichia coli</i> and human. All scripts are provided in the respective directories and are described here briefly for the sake of time economy."
   ]
  },
  {
   "cell_type": "code",
   "execution_count": 1,
   "metadata": {},
   "outputs": [
    {
     "name": "stdout",
     "output_type": "stream",
     "text": [
      "The working directory is /home/reverend_casy/databases_2020/12032020\n"
     ]
    }
   ],
   "source": [
    "import os\n",
    "print(f'The working directory is {os.getcwd()}')"
   ]
  },
  {
   "cell_type": "markdown",
   "metadata": {},
   "source": [
    "<h3>Gathering structural data on EcDNan and HsPCNA</h3>\n",
    "Several databases including NCBI Protein, NCBI RefSeq, UniProt,ProSite and, finally, PDB were used to obtain structural and functional information on the two proteins in question (see script <i>download_proteins.py</i>). Judged by the obtained data one can suggest certain similarity between these two:\n",
    "<ul style=\"list-style-type:circle;\">\n",
    "  <li>DnaN form <i>Eschrichia coli</i> is an &alpha;/&beta;-homodimeric protein comprising a &beta;-subunit of DNA poly III which prevents melted DNA strands from spurious annealing;</li>\n",
    "  <li>Human PCNA is a homotrimeric protein with similar structure which, quite unsurprisingly plyas the same role a as a cofactor of DNA poly &delta;.</li>\n",
    "</ul>"
   ]
  },
  {
   "cell_type": "markdown",
   "metadata": {},
   "source": [
    "<h3>Performing \"<i>de novo</i>\" structure reconstruction</h3>\n",
    "To prove the previously obtained data the assignment further fostered to use several structure analysis tools. Of these, I used <i>quick2D</i> to find secondary structures within the proteins, <i>hmmscan</i> (script <i>hmmscan_API.py</i>) to find domain layouts and, finally, Swiss-Model for a thorough 3D structure reconstruction, For the former output is not shown; the latter two produced tsv table and zip archives, respectively. Both proteins comprised of alternate &alpha;-spirals and &beta;-sheets with very few intrinsically disordered regions and no proline kinks and/or intramembrane hydrophobic regions. An interesting observation also came from domain layout anlaysis: that is, the bacterial protein comprised of three domains while PCNA, which forms lager complexes, contains only two."
   ]
  },
  {
   "cell_type": "markdown",
   "metadata": {},
   "source": [
    "<h3>Dissecting possible homology between DnaN and PCNA</h3>\n",
    "One was first asked to perform a generic blastp alignment of the human PCNA sequence against <i>Escherichia coli</i> protein database, which is a clear mockery given the time of evolutionary divergence between humans and bacteria. (It still took me three hours to realize that it is not the fault of a pesky bug somewhere in the script though). Next, the assignment prescripted to switch to PSI-BLAST which would perform better given it operate positional scores. This, however, did not remedy the situation much, and no direct hits were found. To prove that no convergence occurred it multiple testing I have broadened the target database to include all members of Gammaproteobacteria class: though definitive homologs are present in some of its members, none of them are allocated to <i>E. coli</i> (a body of evidence for 5 genrations 5oo sequence each at 0.005 threshold is included). To test whether this assumption is right I also performed a pairwise blastp alignment between these to proteins which corroborated the lack of any real homology between them."
   ]
  },
  {
   "cell_type": "markdown",
   "metadata": {},
   "source": [
    "<h3>Some back thoughts</h3>\n",
    "Although the assignment suggests that certain fragmented hits should emerge between DnaN and PCNA during PSI-BLAST  model convergence and given that both their secondary and ternary structure show prominent similarity, the whole idea of real homology between these two proteins seems to be gimmicking. After all, eukaryotic/archaeal, bacterial and viral DNA clamps have not been reported to have any primary structural similarity (see, for example, Bruck and O'Donell, Genome Biology, 2001). In this regard DnaN and PCNA are more likely to be functional analogs than divergent homologs. It is possible, however, that these two really originate in one orthologous cluster which is reflected in concordant evolution of structure and surface charge which supersedes any actual amino acid homology, as it has been show lately for intrinsically disordered proteiins (see Zarin <i>et al.</i>, eLife, 2019)."
   ]
  }
 ],
 "metadata": {
  "kernelspec": {
   "display_name": "Python 3",
   "language": "python",
   "name": "python3"
  },
  "language_info": {
   "codemirror_mode": {
    "name": "ipython",
    "version": 3
   },
   "file_extension": ".py",
   "mimetype": "text/x-python",
   "name": "python",
   "nbconvert_exporter": "python",
   "pygments_lexer": "ipython3",
   "version": "3.6.9"
  }
 },
 "nbformat": 4,
 "nbformat_minor": 2
}
