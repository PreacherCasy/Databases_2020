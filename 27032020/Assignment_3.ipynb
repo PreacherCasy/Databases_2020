{
 "cells": [
  {
   "cell_type": "markdown",
   "metadata": {},
   "source": [
    "<p align=\"right\"><h2>Home Assignment 3</h2>\n",
    "<h3>27.03.2020</h3></p>\n",
    "\n",
    "The present assignment comprises of two tasks related to HMM use for ortholog search. The first task regards duplication of genes encoding presenelin, a amyloidogenic agent of Alzheimer's disease; the second one, in its turn, suggests finding APOLLO gene ortholog in <i>Arabidopsis thaliana</i>. In both cases eggNOG ortholog database is used to find homolog sequences, and divergence timing is estimated using TimeTree server."
   ]
  },
  {
   "cell_type": "code",
   "execution_count": 29,
   "metadata": {},
   "outputs": [],
   "source": [
    "import os\n",
    "from Bio import Entrez\n",
    "from Bio import SeqIO\n",
    "from Bio import Phylo"
   ]
  },
  {
   "cell_type": "markdown",
   "metadata": {},
   "source": [
    "<h3>Task 1</h3>"
   ]
  },
  {
   "cell_type": "markdown",
   "metadata": {},
   "source": [
    "First, we identify retrieve a Sel-12 amino acid sequence from RefSeq."
   ]
  },
  {
   "cell_type": "code",
   "execution_count": 2,
   "metadata": {},
   "outputs": [],
   "source": [
    "Entrez.email, Entrez.etool = 'yu.malovichko@arriam.ru', 'MyCustomScript'"
   ]
  },
  {
   "cell_type": "code",
   "execution_count": 46,
   "metadata": {},
   "outputs": [],
   "source": [
    "def retrieve_sequence(query: str = None, uid: str = None):\n",
    "    fetch_result_list = []\n",
    "    if query is not None:\n",
    "        search_handle = Entrez.esearch(db = 'protein', term = f\"{query}\")\n",
    "        search_results = Entrez.read(search_handle)['IdList']\n",
    "        for search_id in search_results:\n",
    "            fetch_handle = Entrez.efetch(db = 'protein', id = search_id, retmode = 'txt', rettype = 'fasta')\n",
    "            fetch_result = SeqIO.read(fetch_handle, 'fasta')\n",
    "            fetch_result_list.append(fetch_result)\n",
    "    elif uid is not None:\n",
    "        fetch_handle = Entrez.efetch(db = 'protein', id = uid, retmode = 'txt', rettype = 'fasta')\n",
    "        fetch_result = SeqIO.read(fetch_handle, 'fasta')\n",
    "        fetch_result_list.append(fetch_result)\n",
    "            \n",
    "    return fetch_result_list"
   ]
  },
  {
   "cell_type": "code",
   "execution_count": 16,
   "metadata": {},
   "outputs": [
    {
     "name": "stdout",
     "output_type": "stream",
     "text": [
      "[SeqRecord(seq=Seq('MPSTRRQQEGGGADAETHTVYGTNLITNRNSQEDENVVEEAELKYGASHVIHLF...LLY', SingleLetterAlphabet()), id='NP_508175.1', name='NP_508175.1', description='NP_508175.1 Presenilin sel-12 [Caenorhabditis elegans]', dbxrefs=[])]\n"
     ]
    }
   ],
   "source": [
    "print(retrieve_sequence(query = 'sel-12 AND \"caenorhabditis elegans\"[Organism] AND srcdb_refseq[PROP] '))"
   ]
  },
  {
   "cell_type": "code",
   "execution_count": 17,
   "metadata": {},
   "outputs": [
    {
     "name": "stdout",
     "output_type": "stream",
     "text": [
      "MPSTRRQQEGGGADAETHTVYGTNLITNRNSQEDENVVEEAELKYGASHVIHLFVPVSLCMALVVFTMNTITFYSQNNGRHLLYTPFVRETDSIVEKGLMSLGNALVMLCVVVLMTVLLIVFYKYKFYKLIHGWLIVSSFLLLFLFTTIYVQEVLKSFDVSPSALLVLFGLGNYGVLGMMCIHWKGPLRLQQFYLITMSALMALVFIKYLPEWTVWFVLFVISVWDLVAVLTPKGPLRYLVETAQERNEPIFPALIYSSGVIYPYVLVTAVENTTDPREPTSSDSNTSTAFPGEASCSSETPKRPKVKRIPQKVQIESNTTASTTQNSGVRVERELAAERPTVQDANFHRHEEEERGVKLGLGDFIFYSVLLGKASSYFDWNTTIACYVAILIGLCFTLVLLAVFKRALPALPISIFSGLIFYFCTRWIITPFVTQVSQKCLLY\n"
     ]
    }
   ],
   "source": [
    "print(retrieve_sequence(query = 'sel-12 AND \"caenorhabditis elegans\"[Organism] AND srcdb_refseq[PROP] ')[0].seq)"
   ]
  },
  {
   "cell_type": "markdown",
   "metadata": {},
   "source": [
    "eggNOG does not have a well-integrated API (spare for a standalone version of eggNOG mapper, nor it was possible to construct a reliable URL request for the <i>sequence search</i> utility. Thus, the obtained sequence was used for a manual tool launching. Four ortholog groups were found for the Sel-12 query, namely:\n",
    "<ul>\n",
    "<li><b>KOG2736</b> (root entry): evalue = 2.32e-142, score = 478.3;</li>\n",
    "<li><b>KOG2736</b> (Eukaryota): same;</li>\n",
    "<li><b>arCOG04463</b> (Archaea): evalue = 1.73e-17, score = 65.0;</li>\n",
    "<li><b>ENOG502TMFP</b> (Eukaryota): evalue = 2.63e-15, score = 51.8</li>\n",
    "</ul>\n",
    "Although only the fourth term contained a presenilin reference in its annotation, it comprised only four sequences derived from unicellular organisms. Apparently, the first two entries stood for the desired orthologous group. Next, the respective phylogenetic tree was retrieved i <i>newick</i> using the RESTFul API syntax (http://eggnog5.embl.de/#/app/api): http://eggnogapi5.embl.de/nog_data/text/tree/KOG2736"
   ]
  },
  {
   "cell_type": "code",
   "execution_count": 49,
   "metadata": {},
   "outputs": [
    {
     "name": "stdout",
     "output_type": "stream",
     "text": [
      "['.ipynb_checkpoints', 'KOG2736.txt', 'Assignment_3.ipynb']\n"
     ]
    }
   ],
   "source": [
    "print(os.listdir())"
   ]
  },
  {
   "cell_type": "code",
   "execution_count": 41,
   "metadata": {},
   "outputs": [
    {
     "name": "stdout",
     "output_type": "stream",
     "text": [
      "537\n"
     ]
    }
   ],
   "source": [
    "with open('KOG2736.txt', 'r') as handle:\n",
    "    tree = Phylo.read(handle, 'newick')\n",
    "tree.ladderize()\n",
    "print(len(tree.get_terminals()))"
   ]
  },
  {
   "cell_type": "markdown",
   "metadata": {},
   "source": [
    "(For the sake of brevity the tree itself is not shown.)\n",
    "\n",
    "We then manually sought for Sel-12 homologs in both <i>C. elegans</i> and <i>H. sapiens</i>. Three paralogs were found in the nematode, although only one of them bore Sel-12 in its signature. In human  PSEN gene family comprised two paralogs.The duplication preserves in all vertebrates presented in the eggNOG database up to the point of chordate basal radiation and is not detected in tunicates, suggesting that duplication could arise somewher between 571 and 720 MYA (according to http://www.timetree.org/)"
   ]
  },
  {
   "cell_type": "markdown",
   "metadata": {},
   "source": [
    "<h3>Task 2</h3>\n",
    "A similar task was assigned for a <i>Boechera</i> exonuclease, Apollo, which is presumably connected to the emergence of apomyxis reproduction strategy in several Brassicaceae species. Given the NCBI GenBank ID, we first obtained the protein sequence with the following command:"
   ]
  },
  {
   "cell_type": "code",
   "execution_count": 48,
   "metadata": {},
   "outputs": [
    {
     "name": "stdout",
     "output_type": "stream",
     "text": [
      "ID: AGZ19453.1\n",
      "Name: AGZ19453.1\n",
      "Description: AGZ19453.1 APOLLO [Boechera sp. IPK 168]\n",
      "Number of features: 0\n",
      "Seq('MASTLGGDERNEIVFFDLETAVPTKSGQPFAILEFGAILVCPMKLVELYSYSTL...LKK', SingleLetterAlphabet())\n"
     ]
    }
   ],
   "source": [
    "print(retrieve_sequence(uid = 'AGZ19453.1')[0])"
   ]
  },
  {
   "cell_type": "markdown",
   "metadata": {},
   "source": [
    "Application of the same approach implemented previously for presenelin resulted in 16 OGs, of which 3 standed for eukaryotic proteins. Choosing the first one, which is also the most abundant, we traced three paralogs in <i>A. thaliana</i>. The duplication is apparently intrinsic for all Brassicaceae family and, according to the divergence timing with <i>Carica papaya</i>, has ocurred cerca 73 MYA."
   ]
  },
  {
   "cell_type": "code",
   "execution_count": null,
   "metadata": {},
   "outputs": [],
   "source": []
  }
 ],
 "metadata": {
  "kernelspec": {
   "display_name": "Python 3",
   "language": "python",
   "name": "python3"
  },
  "language_info": {
   "codemirror_mode": {
    "name": "ipython",
    "version": 3
   },
   "file_extension": ".py",
   "mimetype": "text/x-python",
   "name": "python",
   "nbconvert_exporter": "python",
   "pygments_lexer": "ipython3",
   "version": "3.6.9"
  }
 },
 "nbformat": 4,
 "nbformat_minor": 2
}
